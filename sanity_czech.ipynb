{
 "cells": [
  {
   "cell_type": "code",
   "execution_count": 2,
   "source": [
    "import os\n",
    "import pandas as pd\n",
    "import numpy as np\n",
    "\n",
    "# sub_df = pd.read_csv('sub_data/all.csv')\n",
    "vol_df = pd.read_csv('VolumeVoxel_df.csv')\n",
    "# only CN and MCI spreadsheets have the image data id necessary to make the map\n",
    "sub_df = pd.read_csv('sub_data/data_list_SCZ_AD_MCI_CN (1).xlsx - CN_All.csv').append(pd.read_csv('sub_data/data_list_SCZ_AD_MCI_CN (1).xlsx - MCI_All.csv'))"
   ],
   "outputs": [],
   "metadata": {}
  },
  {
   "cell_type": "code",
   "execution_count": 3,
   "source": [
    "# extract just the problematic portion\n",
    "# sub_df = sub_df.iloc[448:]\n",
    "vol_df = vol_df.iloc[:423]"
   ],
   "outputs": [],
   "metadata": {}
  },
  {
   "cell_type": "code",
   "execution_count": null,
   "source": [
    "sub_df"
   ],
   "outputs": [],
   "metadata": {}
  },
  {
   "cell_type": "code",
   "execution_count": 6,
   "source": [
    "# now I need to somehow build a map between rows... oh god\n",
    "# loop through set of the truncated ids\n",
    "truncIDs = set(sub_df['subject'])\n",
    "truncIDs"
   ],
   "outputs": [
    {
     "output_type": "execute_result",
     "data": {
      "text/plain": [
       "{'002_S_1070',\n",
       " '002_S_1261',\n",
       " '002_S_1268',\n",
       " '002_S_1280',\n",
       " '005_S_0324',\n",
       " '005_S_0448',\n",
       " '005_S_0553',\n",
       " '005_S_0572',\n",
       " '007_S_1206',\n",
       " '007_S_1222',\n",
       " '012_S_1009',\n",
       " '016_S_1117',\n",
       " '016_S_1121',\n",
       " '016_S_1326',\n",
       " '018_S_0369',\n",
       " '018_S_0425',\n",
       " '018_S_0450',\n",
       " '023_S_0030',\n",
       " '023_S_0031',\n",
       " '023_S_0058',\n",
       " '023_S_0061',\n",
       " '023_S_0331',\n",
       " '023_S_0376',\n",
       " '023_S_0388',\n",
       " '023_S_0604',\n",
       " '023_S_0625',\n",
       " '023_S_0926',\n",
       " '023_S_0963',\n",
       " '023_S_1046',\n",
       " '023_S_1126',\n",
       " '023_S_1190',\n",
       " '023_S_1247',\n",
       " '027_S_0307',\n",
       " '027_S_0403',\n",
       " '027_S_0835',\n",
       " '027_S_1387',\n",
       " '031_S_0830',\n",
       " '031_S_1066',\n",
       " '032_S_0677',\n",
       " '032_S_1169',\n",
       " '037_S_0303',\n",
       " '037_S_0501',\n",
       " '051_S_1123',\n",
       " '051_S_1331',\n",
       " '053_S_0507',\n",
       " '067_S_0607',\n",
       " '100_S_0015',\n",
       " '100_S_0190',\n",
       " '100_S_1286',\n",
       " '116_S_0382',\n",
       " '116_S_0649',\n",
       " '116_S_1232',\n",
       " '116_S_1249',\n",
       " '127_S_0260',\n",
       " '127_S_0622',\n",
       " '130_S_0449',\n",
       " '130_S_0505',\n",
       " '130_S_0886',\n",
       " '130_S_0969',\n",
       " '136_S_0086',\n",
       " '136_S_0184',\n",
       " '136_S_0195',\n",
       " '136_S_0196',\n",
       " '136_S_0429',\n",
       " '136_S_0579',\n",
       " '136_S_1227'}"
      ]
     },
     "metadata": {},
     "execution_count": 6
    }
   ],
   "metadata": {}
  },
  {
   "cell_type": "code",
   "execution_count": 20,
   "source": [
    "# all we care about in the vol df is the id\n",
    "vol_ids = list(vol_df['filename'])"
   ],
   "outputs": [],
   "metadata": {}
  },
  {
   "cell_type": "code",
   "execution_count": 35,
   "source": [
    "sub_df[sub_df.subject == '136_S_1227'].to_numpy()[:,5]"
   ],
   "outputs": [
    {
     "output_type": "execute_result",
     "data": {
      "text/plain": [
       "array([6, 5, 4, 2, 3], dtype=object)"
      ]
     },
     "metadata": {},
     "execution_count": 35
    }
   ],
   "metadata": {}
  },
  {
   "cell_type": "code",
   "execution_count": 46,
   "source": [
    "godmap = {}\n",
    "for truncID in truncIDs:\n",
    "    print(truncID)\n",
    "    sub_rows = sub_df[sub_df.subject == truncID]\n",
    "    vids = [vid for vid in vol_ids if truncID in vid]\n",
    "    if not len(sub_rows) == len(vids):\n",
    "        print('WAT')\n",
    "    # find coreespondence\n",
    "    # first sort rows by visit, then by image id\n",
    "    sorted_subs = np.array(sorted(sub_rows.to_numpy(), key=lambda row: row[5]))\n",
    "    # if there are no duplicate visits, we can proceed\n",
    "    if len(set(sorted_subs[:,5])) == len(sorted_subs):\n",
    "        sorted_vids = sorted(vids, key=lambda vid: vid[-1])\n",
    "        if not all([vid[-3] == '1' for vid in sorted_vids]):\n",
    "            print('bad!')\n",
    "            # pass\n",
    "\n",
    "\n",
    "    # break"
   ],
   "outputs": [
    {
     "output_type": "stream",
     "name": "stdout",
     "text": [
      "007_S_1222\n",
      "037_S_0303\n",
      "130_S_0449\n",
      "bad!\n",
      "136_S_0195\n",
      "002_S_1268\n",
      "bad!\n",
      "032_S_1169\n",
      "bad!\n",
      "005_S_0324\n",
      "bad!\n",
      "031_S_0830\n",
      "bad!\n",
      "051_S_1123\n",
      "bad!\n",
      "005_S_0553\n",
      "100_S_0015\n",
      "bad!\n",
      "130_S_0505\n",
      "136_S_0196\n",
      "016_S_1121\n",
      "bad!\n",
      "016_S_1117\n",
      "007_S_1206\n",
      "136_S_0429\n",
      "100_S_0190\n",
      "027_S_0835\n",
      "002_S_1070\n",
      "bad!\n",
      "012_S_1009\n",
      "023_S_1247\n",
      "018_S_0369\n",
      "023_S_0926\n",
      "100_S_1286\n",
      "bad!\n",
      "023_S_0625\n",
      "136_S_0579\n",
      "018_S_0450\n",
      "bad!\n",
      "127_S_0260\n",
      "037_S_0501\n",
      "bad!\n",
      "136_S_0184\n",
      "023_S_0331\n",
      "002_S_1261\n",
      "031_S_1066\n",
      "bad!\n",
      "053_S_0507\n",
      "027_S_0307\n",
      "bad!\n",
      "023_S_0376\n",
      "130_S_0969\n",
      "002_S_1280\n",
      "023_S_0061\n",
      "116_S_1232\n",
      "bad!\n",
      "023_S_0388\n",
      "023_S_0030\n",
      "016_S_1326\n",
      "023_S_1046\n",
      "130_S_0886\n",
      "bad!\n",
      "023_S_0031\n",
      "027_S_1387\n",
      "bad!\n",
      "023_S_0604\n",
      "005_S_0448\n",
      "bad!\n",
      "116_S_0649\n",
      "051_S_1331\n",
      "bad!\n",
      "023_S_1126\n",
      "116_S_1249\n",
      "bad!\n",
      "067_S_0607\n",
      "WAT\n",
      "023_S_0058\n",
      "023_S_0963\n",
      "032_S_0677\n",
      "136_S_0086\n",
      "005_S_0572\n",
      "bad!\n",
      "127_S_0622\n",
      "018_S_0425\n",
      "023_S_1190\n",
      "116_S_0382\n",
      "027_S_0403\n",
      "bad!\n",
      "136_S_1227\n"
     ]
    }
   ],
   "metadata": {}
  },
  {
   "cell_type": "code",
   "execution_count": null,
   "source": [
    "raise Exception('stop')"
   ],
   "outputs": [],
   "metadata": {}
  },
  {
   "cell_type": "code",
   "execution_count": null,
   "source": [
    "merged1 = pd.merge(sub_df, vol_df, how='left', on='filename')"
   ],
   "outputs": [],
   "metadata": {}
  },
  {
   "cell_type": "code",
   "execution_count": null,
   "source": [
    "merged1"
   ],
   "outputs": [],
   "metadata": {}
  },
  {
   "cell_type": "code",
   "execution_count": null,
   "source": [
    "# list(merged1['class'] == merged1['Target'])[:423]"
   ],
   "outputs": [],
   "metadata": {}
  },
  {
   "cell_type": "code",
   "execution_count": null,
   "source": [
    "merged1.to_csv('merged1.csv')"
   ],
   "outputs": [],
   "metadata": {}
  },
  {
   "cell_type": "code",
   "execution_count": null,
   "source": [
    "sub_id_col = vol_df['filename'].iloc[:423].apply(get_id)\n",
    "vol_df['subject'] = sub_id_col"
   ],
   "outputs": [],
   "metadata": {}
  },
  {
   "cell_type": "code",
   "execution_count": null,
   "source": [
    "vol_df"
   ],
   "outputs": [],
   "metadata": {}
  },
  {
   "cell_type": "code",
   "execution_count": null,
   "source": [
    "sub_df"
   ],
   "outputs": [],
   "metadata": {}
  },
  {
   "cell_type": "code",
   "execution_count": null,
   "source": [
    "merged2 = pd.merge(sub_df, vol_df, how='inner', on='subject')"
   ],
   "outputs": [],
   "metadata": {}
  },
  {
   "cell_type": "code",
   "execution_count": null,
   "source": [
    "# list(merged2.columns)"
   ],
   "outputs": [],
   "metadata": {}
  },
  {
   "cell_type": "code",
   "execution_count": null,
   "source": [],
   "outputs": [],
   "metadata": {}
  },
  {
   "cell_type": "code",
   "execution_count": null,
   "source": [
    "fff = merged2.drop_duplicates('filename_y')"
   ],
   "outputs": [],
   "metadata": {}
  },
  {
   "cell_type": "code",
   "execution_count": null,
   "source": [
    "all(fff['class'] == fff['Target'])"
   ],
   "outputs": [],
   "metadata": {}
  },
  {
   "cell_type": "code",
   "execution_count": null,
   "source": [
    "##########################"
   ],
   "outputs": [],
   "metadata": {}
  },
  {
   "cell_type": "code",
   "execution_count": null,
   "source": [
    "worked = pd.merge(sub_df, vol_df_bottom, on='filename', how='left')"
   ],
   "outputs": [],
   "metadata": {}
  },
  {
   "cell_type": "code",
   "execution_count": null,
   "source": [
    "worked[:448]"
   ],
   "outputs": [],
   "metadata": {}
  },
  {
   "cell_type": "code",
   "execution_count": null,
   "source": [
    "# worked.to_csv('merged.csv')"
   ],
   "outputs": [],
   "metadata": {}
  },
  {
   "cell_type": "code",
   "execution_count": null,
   "source": [
    "worked_top = worked.iloc[:448].copy(deep=True) #merge completed\n",
    "worked_bottom = worked.iloc[448:].copy(deep=True)"
   ],
   "outputs": [],
   "metadata": {}
  },
  {
   "cell_type": "code",
   "execution_count": null,
   "source": [
    "worked_bottom"
   ],
   "outputs": [],
   "metadata": {}
  },
  {
   "cell_type": "code",
   "execution_count": null,
   "source": [
    "worked_bottom = pd.merge(worked_bottom, vol_df_top, how='outer', on='subject')"
   ],
   "outputs": [],
   "metadata": {}
  },
  {
   "cell_type": "code",
   "execution_count": null,
   "source": [
    "worked_bottom"
   ],
   "outputs": [],
   "metadata": {}
  },
  {
   "cell_type": "code",
   "execution_count": null,
   "source": [
    "worked = pd.merge(worked, vol_df_top, on='subject', how='left')"
   ],
   "outputs": [],
   "metadata": {}
  },
  {
   "cell_type": "code",
   "execution_count": null,
   "source": [
    "worked.to_csv('merged.csv')"
   ],
   "outputs": [],
   "metadata": {}
  }
 ],
 "metadata": {
  "orig_nbformat": 4,
  "language_info": {
   "name": "python"
  }
 },
 "nbformat": 4,
 "nbformat_minor": 2
}