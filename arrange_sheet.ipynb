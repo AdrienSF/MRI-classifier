{
 "cells": [
  {
   "cell_type": "code",
   "execution_count": 1,
   "source": [
    "import pandas as pd\n",
    "import json\n",
    "import numpy as np\n",
    "\n",
    "with open('id_map.json') as f:\n",
    "    godmap = json.load(f)\n",
    "\n",
    "sub_df = pd.read_csv('sub_data/all.csv')\n",
    "vol_df = pd.read_csv('VolumeVoxel_df.csv')\n",
    "\n",
    "sub_header = sub_df.columns.values.tolist()\n",
    "vol_header = vol_df.columns.values.tolist()\n",
    "\n",
    "sub_rows = sub_df.values.tolist()\n",
    "vol_rows = vol_df.values.tolist()\n"
   ],
   "outputs": [],
   "metadata": {}
  },
  {
   "cell_type": "code",
   "execution_count": 2,
   "source": [
    "for i in range(len(vol_rows)):\n",
    "    sub_img_id = vol_rows[i][vol_header.index('filename')]\n",
    "    if sub_img_id in godmap:\n",
    "        corow = [j for j in range(len(sub_rows)) if all(e in sub_rows[j] for e in godmap[sub_img_id] if not pd.isna(e))][0]\n",
    "        age = sub_rows[corow][sub_header.index('age')]\n",
    "        # print(age)\n",
    "        vol_rows[i].append(age)\n",
    "        vol_rows[i].append(corow)\n",
    "    else:\n",
    "        \n",
    "        corow = [j for j in range(len(sub_rows)) if sub_img_id in sub_rows[j]]\n",
    "        if corow:\n",
    "            age = sub_rows[corow[0]][sub_header.index('age')]\n",
    "            # print(age)\n",
    "            vol_rows[i].append(age)\n",
    "            vol_rows[i].append(corow[0])\n",
    "        else:\n",
    "            vol_rows[i].append(None)\n",
    "            vol_rows[i].append(None)\n",
    "            # pass\n",
    "\n",
    "\n",
    "       "
   ],
   "outputs": [],
   "metadata": {}
  },
  {
   "cell_type": "code",
   "execution_count": 4,
   "source": [
    "pd.DataFrame(vol_rows,columns=vol_header + ['age', 'all.csv_row_num']).to_csv('volume_age.csv')"
   ],
   "outputs": [],
   "metadata": {}
  }
 ],
 "metadata": {
  "orig_nbformat": 4,
  "language_info": {
   "name": "python",
   "version": "3.7.6",
   "mimetype": "text/x-python",
   "codemirror_mode": {
    "name": "ipython",
    "version": 3
   },
   "pygments_lexer": "ipython3",
   "nbconvert_exporter": "python",
   "file_extension": ".py"
  },
  "kernelspec": {
   "name": "python3",
   "display_name": "Python 3.7.6 64-bit ('shapenv': venv)"
  },
  "interpreter": {
   "hash": "8857f5c98a0610cc25aeb99e396834fd47127cf589fb69b731d5b2c3906df78a"
  }
 },
 "nbformat": 4,
 "nbformat_minor": 2
}